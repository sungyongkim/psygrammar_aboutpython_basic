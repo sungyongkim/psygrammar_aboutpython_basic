{
 "cells": [
  {
   "cell_type": "markdown",
   "metadata": {
    "school_cell_uuid": "6197af054d3548d295f014b66f997f9c"
   },
   "source": [
    "# 파이썬 for 반복문 기초 1"
   ]
  },
  {
   "cell_type": "markdown",
   "metadata": {
    "school_cell_uuid": "d29ca1b79f924145b7e8b5d343018df5"
   },
   "source": [
    "다음과 같이 문자열을 반복해서 인쇄해야 하는 경우를 생각해보자."
   ]
  },
  {
   "cell_type": "code",
   "execution_count": 3,
   "metadata": {
    "collapsed": false,
    "school_cell_uuid": "32478aa9fe0144c0a314f348a1ce0e97"
   },
   "outputs": [
    {
     "name": "stdout",
     "output_type": "stream",
     "text": [
      "=1=\n",
      "=2=\n",
      "=3=\n",
      "=4=\n",
      "=5=\n",
      "=6=\n",
      "=7=\n",
      "=8=\n",
      "=9=\n"
     ]
    }
   ],
   "source": [
    "print(\"=1=\")\n",
    "print(\"=2=\")\n",
    "print(\"=3=\")\n",
    "print(\"=4=\")\n",
    "print(\"=5=\")\n",
    "print(\"=6=\")\n",
    "print(\"=7=\")\n",
    "print(\"=8=\")\n",
    "print(\"=9=\")"
   ]
  },
  {
   "cell_type": "markdown",
   "metadata": {
    "school_cell_uuid": "32bf6507d3824524911899bf085cdc89"
   },
   "source": [
    "## `for` 반복문"
   ]
  },
  {
   "cell_type": "markdown",
   "metadata": {
    "school_cell_uuid": "0a09e96f536b4a22ae12d1f2c1df16ee"
   },
   "source": [
    "파이썬에서는 이렇게 명령이 반복될 수 있게 하는 `for` 반복문을 사용할 수 있다. 반복문은 영어로 loop라고 한다.\n",
    "\n",
    "`for` 반복문은 다음과 같이 사용한다.\n",
    "\n",
    "\n",
    "```\n",
    "for 카운터변수 in range(반복횟수):\n",
    "    반복해서 실행할 명령\n",
    "```\n",
    "\n",
    "이 때 반복횟수는 10, 100과 같은 양의 정수이어야 하고 카운터 변수의 이름은 아무거나 쓸 수 있다. 하지만 전문 프로그래머들은 보통 `i` 또는 `j` 라는 변수 이름을 자주 사용한다."
   ]
  },
  {
   "cell_type": "code",
   "execution_count": 4,
   "metadata": {
    "collapsed": false,
    "school_cell_uuid": "16da8d8920a64216af97d74c2d858fe4"
   },
   "outputs": [
    {
     "name": "stdout",
     "output_type": "stream",
     "text": [
      "=\n",
      "=\n",
      "=\n",
      "=\n",
      "=\n",
      "=\n",
      "=\n",
      "=\n",
      "=\n",
      "=\n"
     ]
    }
   ],
   "source": [
    "for i in range(10):\n",
    "    print(\"=\")"
   ]
  },
  {
   "cell_type": "markdown",
   "metadata": {
    "school_cell_uuid": "73490a54ea0e490dac5ef1ccc9ab677f"
   },
   "source": [
    "카운터 변수는 반복 실행될 때마다 현재의 실행 횟수에 해당하는 숫자가 들어가게 되는데 가장 처음 실행하는 경우에는 아직 한번도 실행한 적이 없기 때문에 0이 된다."
   ]
  },
  {
   "cell_type": "code",
   "execution_count": 5,
   "metadata": {
    "collapsed": false,
    "school_cell_uuid": "69459a884312420db6c51a36ac1f9fa4"
   },
   "outputs": [
    {
     "name": "stdout",
     "output_type": "stream",
     "text": [
      "0\n",
      "1\n",
      "2\n",
      "3\n",
      "4\n",
      "5\n",
      "6\n",
      "7\n",
      "8\n",
      "9\n"
     ]
    }
   ],
   "source": [
    "for i in range(10):\n",
    "    print(i)"
   ]
  },
  {
   "cell_type": "markdown",
   "metadata": {
    "school_cell_uuid": "b5b3db2d23894adcb957f41c0019841a"
   },
   "source": [
    "따라서 시작 부분에서 나타낸 프로그램은 반복문을 쓰면 다음과 같이 짧은 프로그램으로 바꿀 수 있다."
   ]
  },
  {
   "cell_type": "code",
   "execution_count": 6,
   "metadata": {
    "collapsed": false,
    "school_cell_uuid": "2797d912810647e4ad104443d210c4bf"
   },
   "outputs": [
    {
     "name": "stdout",
     "output_type": "stream",
     "text": [
      "=0=\n",
      "=1=\n",
      "=2=\n",
      "=3=\n",
      "=4=\n",
      "=5=\n",
      "=6=\n",
      "=7=\n",
      "=8=\n",
      "=9=\n"
     ]
    }
   ],
   "source": [
    "for i in range(10):\n",
    "    print(\"=\" + str(i) + \"=\")"
   ]
  },
  {
   "cell_type": "markdown",
   "metadata": {
    "school_cell_uuid": "381a851b5c0949cfa83b68ba91bda82d"
   },
   "source": [
    "그런데 시작이 0이기 때문에 우리가 원하는 결과와 달라졌다. 그래서 프로그램을 다음과 같이 고쳐야 한다."
   ]
  },
  {
   "cell_type": "code",
   "execution_count": 7,
   "metadata": {
    "collapsed": false,
    "school_cell_uuid": "9fa7ee036c0a464491b6562925e9e2a0"
   },
   "outputs": [
    {
     "name": "stdout",
     "output_type": "stream",
     "text": [
      "=1=\n",
      "=2=\n",
      "=3=\n",
      "=4=\n",
      "=5=\n",
      "=6=\n",
      "=7=\n",
      "=8=\n",
      "=9=\n"
     ]
    }
   ],
   "source": [
    "for i in range(9):\n",
    "    print(\"=\" + str(i + 1) + \"=\")"
   ]
  },
  {
   "cell_type": "markdown",
   "metadata": {
    "school_cell_uuid": "c0f81bfc71f94673ba280cee5761f9be"
   },
   "source": [
    "카운터 변수는 항상 0부터 시작하므로 1부터 시작하는 것처럼 보이게 하려면 1을 더해주어야 한다. 또 1부터 9까지 9번만 실행하면 되기 때문에 반복횟수도 10이 아니라 9가 되었다."
   ]
  },
  {
   "cell_type": "markdown",
   "metadata": {
    "bootstrap": {
     "panel": {
      "class": "panel-default"
     }
    },
    "school_cell_uuid": "477d4e7d95c7475aa12d2623c710ec90"
   },
   "source": [
    "#### 연습 문제 1\n",
    "\n",
    "`for` 반복문과 문자열 연산을 사용하여 다음과 같이 인쇄한다.\n",
    "\n",
    "```\n",
    "*\n",
    "**\n",
    "***\n",
    "****\n",
    "*****\n",
    "******\n",
    "*******\n",
    "********\n",
    "*********\n",
    "**********\n",
    "```"
   ]
  },
  {
   "cell_type": "markdown",
   "metadata": {
    "bootstrap": {
     "panel": {
      "class": "panel-default"
     }
    },
    "school_cell_uuid": "b9855baa68404eee8c7a9be8450b1d9a"
   },
   "source": [
    "#### 연습 문제 2\n",
    "\n",
    "`for` 반복문과 문자열 연산을 사용하여 다음과 같이 인쇄한다.\n",
    "\n",
    "```\n",
    "**********\n",
    "*********\n",
    "********\n",
    "*******\n",
    "******\n",
    "*****\n",
    "****\n",
    "***\n",
    "**\n",
    "*\n",
    "```"
   ]
  },
  {
   "cell_type": "markdown",
   "metadata": {
    "bootstrap": {
     "panel": {
      "class": "panel-default"
     }
    },
    "school_cell_uuid": "132181892b19415fb0a897a5919afe03"
   },
   "source": [
    "#### 연습 문제 3\n",
    "\n",
    "`for` 반복문과 문자열 연산, `if` 조건문을 사용하여 다음과 같이 인쇄한다.\n",
    "\n",
    "```\n",
    "*\n",
    "**\n",
    "***\n",
    "****\n",
    "*****\n",
    "******\n",
    "*******\n",
    "********\n",
    "*********\n",
    "**********\n",
    "*********\n",
    "********\n",
    "*******\n",
    "******\n",
    "*****\n",
    "****\n",
    "***\n",
    "**\n",
    "*\n",
    "```"
   ]
  },
  {
   "cell_type": "markdown",
   "metadata": {
    "bootstrap": {
     "panel": {
      "class": "panel-default"
     }
    },
    "school_cell_uuid": "978ba00343664239b8acac02b9eee56f"
   },
   "source": [
    "#### 연습 문제 4\n",
    "\n",
    "`for` 반복문과 문자열 연산, `if` 조건문을 사용하여 다음과 같이 인쇄한다.\n",
    "\n",
    "```\n",
    "     * \n",
    "    ***\n",
    "   *****\n",
    "  *******\n",
    " *********\n",
    "***********\n",
    " *********\n",
    "  *******\n",
    "   *****\n",
    "    ***\n",
    "     *\n",
    "```"
   ]
  }
 ],
 "metadata": {
  "kernelspec": {
   "display_name": "Python [Root]",
   "language": "python",
   "name": "Python [Root]"
  },
  "language_info": {
   "codemirror_mode": {
    "name": "ipython",
    "version": 2
   },
   "file_extension": ".py",
   "mimetype": "text/x-python",
   "name": "python",
   "nbconvert_exporter": "python",
   "pygments_lexer": "ipython2",
   "version": "2.7.12"
  }
 },
 "nbformat": 4,
 "nbformat_minor": 0
}