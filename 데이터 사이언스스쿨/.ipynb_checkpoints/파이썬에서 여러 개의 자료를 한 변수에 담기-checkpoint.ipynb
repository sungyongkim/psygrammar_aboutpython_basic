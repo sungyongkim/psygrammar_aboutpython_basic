{
 "cells": [
  {
   "cell_type": "markdown",
   "metadata": {
    "school_cell_uuid": "23f506be6fb74b0a81c08a04f23cd455"
   },
   "source": [
    "# 파이썬에서 여러 개의 자료를 한 변수에 담기"
   ]
  },
  {
   "cell_type": "markdown",
   "metadata": {
    "school_cell_uuid": "116ad33e274843ec90a49c166375686a"
   },
   "source": [
    "지금까지는 하나의 변수에 하나의 자료를 저장했다. 그러나 파이썬에서는 하나의 변수에 여러 개의 자료를 한꺼번에 저장하고 필요한 때에 꺼내 쓸 수도 있다."
   ]
  },
  {
   "cell_type": "markdown",
   "metadata": {
    "school_cell_uuid": "f01c489c7d3449819cfed87f9c58f5ff"
   },
   "source": [
    "파이썬에서 하나의 변수에 여러 개의 자료를 저장하고 쓰는데는 크게 두 가지 방법을 사용한다.\n",
    "\n",
    "1. 여러개의 자료가 순서를 가지는 경우에는 주로 리스트(list) 자료형을 사용\n",
    "1. 여러개의 자료가 이름을 가지는 경우에는 주로 딕셔너리(dictionary) 자료형을 사용"
   ]
  },
  {
   "cell_type": "markdown",
   "metadata": {
    "school_cell_uuid": "8bc39fa9955946df937a2d1488c58c89"
   },
   "source": [
    "## 자료의 순서만 가지는 리스트 자료형"
   ]
  },
  {
   "cell_type": "markdown",
   "metadata": {
    "school_cell_uuid": "23aa3daa84d94e11a36bd16a396ce4dc"
   },
   "source": [
    "리스트 자료형에는 여러개의 자료를 순서에 따라 저장할 수 있다. 리스트 자료형 변수는 다음과 같이 만든다.\n",
    "\n",
    "```\n",
    "리스트변수 = [자료1, 자료2, 자료3]\n",
    "```\n",
    "\n",
    "이 때 자료의 갯수는 얼마가 되든 상관없다."
   ]
  },
  {
   "cell_type": "code",
   "execution_count": 36,
   "metadata": {
    "collapsed": true,
    "school_cell_uuid": "3564eace06b449b79b179849cc1058e7"
   },
   "outputs": [],
   "source": [
    "x = [88, 90, 100]"
   ]
  },
  {
   "cell_type": "code",
   "execution_count": 37,
   "metadata": {
    "school_cell_uuid": "1b654df0b71c43459673a682ab5999d7"
   },
   "outputs": [
    {
     "data": {
      "text/plain": [
       "[88, 90, 100]"
      ]
     },
     "execution_count": 37,
     "metadata": {},
     "output_type": "execute_result"
    }
   ],
   "source": [
    "x"
   ]
  },
  {
   "cell_type": "markdown",
   "metadata": {
    "school_cell_uuid": "3f78d70a95704880a9b2a6d48699f8a4"
   },
   "source": [
    "## 인덱싱"
   ]
  },
  {
   "cell_type": "markdown",
   "metadata": {
    "school_cell_uuid": "41b157741aeb464cbe5fbdc0e9c48ce3"
   },
   "source": [
    "리스트 자료형 변수에서 특정한 자료를 꺼내려면 **인덱싱(indexing)**이라는 연산을 사용한다. \n",
    "\n",
    "인덱싱 연산을 하려면 다음과 같이 대괄호(bracket)를 변수 이름 끝에 붙이고 그 안에 자료의 순서를 뜻하는 숫자를 넣는다.\n",
    "\n",
    "```\n",
    "리스트변수[인덱스]\n",
    "```"
   ]
  },
  {
   "cell_type": "markdown",
   "metadata": {
    "school_cell_uuid": "e229f2518c7a463eb2c47ad20fb2786c"
   },
   "source": [
    "이 때 자료의 순서를 뜻하는 숫자를 **인덱스(index)**라고 한다. 파이썬에서는 가장 첫번째 자료를 가리키는 인덱스는 **1이 아니라 0**이다."
   ]
  },
  {
   "cell_type": "code",
   "execution_count": 38,
   "metadata": {
    "school_cell_uuid": "0ff16f92d94a492584b56f5e42f40a22"
   },
   "outputs": [
    {
     "data": {
      "text/plain": [
       "88"
      ]
     },
     "execution_count": 38,
     "metadata": {},
     "output_type": "execute_result"
    }
   ],
   "source": [
    "x[0]"
   ]
  },
  {
   "cell_type": "code",
   "execution_count": 39,
   "metadata": {
    "school_cell_uuid": "8fd37df82a6446a69ff725a4bfdf0c8e"
   },
   "outputs": [
    {
     "data": {
      "text/plain": [
       "90"
      ]
     },
     "execution_count": 39,
     "metadata": {},
     "output_type": "execute_result"
    }
   ],
   "source": [
    "x[1]"
   ]
  },
  {
   "cell_type": "code",
   "execution_count": 40,
   "metadata": {
    "school_cell_uuid": "5df9a50a5dcb4e85a4783ea89397b1e6"
   },
   "outputs": [
    {
     "data": {
      "text/plain": [
       "89.0"
      ]
     },
     "execution_count": 40,
     "metadata": {},
     "output_type": "execute_result"
    }
   ],
   "source": [
    "(x[0] + x[1]) / 2"
   ]
  },
  {
   "cell_type": "markdown",
   "metadata": {
    "bootstrap": {
     "panel": {
      "class": "panel-default"
     }
    },
    "school_cell_uuid": "195ac27b069045a78063f255ab1ac09e"
   },
   "source": [
    "#### 연습 문제 1\n",
    "\n",
    "시험 성적을 나타내는 임의의 5개의 숫자를 리스트 변수 score에 넣고 평균을 구한다."
   ]
  },
  {
   "cell_type": "markdown",
   "metadata": {
    "school_cell_uuid": "25095c9b127d4b82bf375f9ce1288c78"
   },
   "source": [
    "## 자료의 이름만 가지는 딕셔너리 자료형"
   ]
  },
  {
   "cell_type": "markdown",
   "metadata": {
    "school_cell_uuid": "03032dce475c4057b5eb4e30f2a61d6c"
   },
   "source": [
    "딕셔너리 자료형에는 여러개의 자료를 이름을 붙여서 저장할 수 있다. 딕셔너리 자료형 변수는 다음과 같이 만든다.\n",
    "\n",
    "```\n",
    "딕셔너리변수 = {자료이름1: 자료값1, 자료이름2: 자료값2, 자료이름3: 자료값3}\n",
    "```\n",
    "\n",
    "이 때 자료의 갯수는 얼마가 되든 상관없다."
   ]
  },
  {
   "cell_type": "markdown",
   "metadata": {
    "school_cell_uuid": "1149816ff6734f7b8fac279b3d703263"
   },
   "source": [
    "파이썬에서는 자료의 이름을 **키(key)**라고 하고 자료의 값을 **값(value)**라고 한다."
   ]
  },
  {
   "cell_type": "code",
   "execution_count": 41,
   "metadata": {
    "collapsed": true,
    "school_cell_uuid": "4e848a7d06e54191bbc04afef3e3f607"
   },
   "outputs": [],
   "source": [
    "b = {\"math\": 88, \"english\": 90, \"history\": 100}"
   ]
  },
  {
   "cell_type": "code",
   "execution_count": 42,
   "metadata": {
    "school_cell_uuid": "2830eb66b9c9439c92a144c2bc686f07"
   },
   "outputs": [
    {
     "data": {
      "text/plain": [
       "{'english': 90, 'history': 100, 'math': 88}"
      ]
     },
     "execution_count": 42,
     "metadata": {},
     "output_type": "execute_result"
    }
   ],
   "source": [
    "b"
   ]
  },
  {
   "cell_type": "markdown",
   "metadata": {
    "school_cell_uuid": "8678e7dcc5504bb3bed4c26410252bf7"
   },
   "source": [
    "딕셔너리 자료형 변수에서 특정한 자료를 꺼낼때도 마찬가지로 인덱싱(indexing) 연산을 한다.\n",
    "\n",
    "딕셔너리 자료형 변수에서 인덱싱 연산을 하는 경우에도 다음과 같이 대괄호(bracket)를 변수 이름 끝에 붙이고 그 안에 자료의 키를 넣는다."
   ]
  },
  {
   "cell_type": "code",
   "execution_count": 43,
   "metadata": {
    "school_cell_uuid": "08d0624c430e43929cd751eb4e8d0aa4"
   },
   "outputs": [
    {
     "data": {
      "text/plain": [
       "88"
      ]
     },
     "execution_count": 43,
     "metadata": {},
     "output_type": "execute_result"
    }
   ],
   "source": [
    "b[\"math\"]"
   ]
  },
  {
   "cell_type": "code",
   "execution_count": 44,
   "metadata": {
    "school_cell_uuid": "85dc2971eaa94c68a7776437bdf0d736"
   },
   "outputs": [
    {
     "data": {
      "text/plain": [
       "90"
      ]
     },
     "execution_count": 44,
     "metadata": {},
     "output_type": "execute_result"
    }
   ],
   "source": [
    "b[\"english\"]"
   ]
  },
  {
   "cell_type": "code",
   "execution_count": 45,
   "metadata": {
    "school_cell_uuid": "2d85f8248464492491b6ef7b315b5b99"
   },
   "outputs": [
    {
     "data": {
      "text/plain": [
       "89.0"
      ]
     },
     "execution_count": 45,
     "metadata": {},
     "output_type": "execute_result"
    }
   ],
   "source": [
    "(b[\"math\"] + b[\"english\"]) / 2"
   ]
  },
  {
   "cell_type": "markdown",
   "metadata": {
    "school_cell_uuid": "d46d92bc717f4fbfa747ea0657fe70ba"
   },
   "source": [
    "파이썬에서는 자료의 키는 무엇이든 가능하다. 즉, 숫자도 키가 될 수 있다."
   ]
  },
  {
   "cell_type": "code",
   "execution_count": 46,
   "metadata": {
    "collapsed": true,
    "school_cell_uuid": "913733c695404c03b186dd3e0a7459db"
   },
   "outputs": [],
   "source": [
    "b2 = {1: 10, 2: 20}"
   ]
  },
  {
   "cell_type": "code",
   "execution_count": 47,
   "metadata": {
    "school_cell_uuid": "f24444b05253452788720cb0e3e22d4d"
   },
   "outputs": [
    {
     "data": {
      "text/plain": [
       "{1: 10, 2: 20}"
      ]
     },
     "execution_count": 47,
     "metadata": {},
     "output_type": "execute_result"
    }
   ],
   "source": [
    "b2"
   ]
  },
  {
   "cell_type": "markdown",
   "metadata": {
    "bootstrap": {
     "panel": {
      "class": "panel-default"
     }
    },
    "school_cell_uuid": "506dc1aca24847728707a5fc5777cc95"
   },
   "source": [
    "#### 연습 문제 2\n",
    "\n",
    "1. 윤년이 아닌 평년의 경우에 각 달의 날짜 수를 저장하는 변수 days를 만든다. 이 때 각 달을 표시하는 키는 두 글자짜리 문자열로 한다. 즉, 1월은 \"01\", 2월은 \"02\", 12월은 \"12\"로 한다.\n",
    "   \n",
    "2. 변수 days를 이용하여 짝수 달의 평균 날짜 수를 구한다.   "
   ]
  },
  {
   "cell_type": "markdown",
   "metadata": {
    "school_cell_uuid": "b38d583cb4804d8e8c9c28ca5fc9f19d"
   },
   "source": [
    "## 자료형이 다른 경우"
   ]
  },
  {
   "cell_type": "markdown",
   "metadata": {
    "school_cell_uuid": "446c4a3b4b4c4c6fbb74d69c63e6b377"
   },
   "source": [
    "리스트 변수에는 자료형이 같은 자료만 담을 수 있는 것은 아니고 자료형이 다른 자료들도 담을 수 있다. 예를 들어 정수형 자료와 실수형 자료, 그리고 문자열 자료를 한 리스트 변수에 넣는 것도 가능하다."
   ]
  },
  {
   "cell_type": "code",
   "execution_count": 48,
   "metadata": {
    "school_cell_uuid": "20cb4ab8a0264170b4a8f8a2a85cf986"
   },
   "outputs": [],
   "source": [
    "d = [1, 3.14, \"pi\"]"
   ]
  },
  {
   "cell_type": "code",
   "execution_count": 49,
   "metadata": {
    "school_cell_uuid": "f7119871a4904a4ca5a81bc0197736b7"
   },
   "outputs": [
    {
     "data": {
      "text/plain": [
       "1"
      ]
     },
     "execution_count": 49,
     "metadata": {},
     "output_type": "execute_result"
    }
   ],
   "source": [
    "d[0]"
   ]
  },
  {
   "cell_type": "code",
   "execution_count": 50,
   "metadata": {
    "school_cell_uuid": "175ff5c4cb194a7c8213e6ac1b4840f6"
   },
   "outputs": [
    {
     "data": {
      "text/plain": [
       "3.14"
      ]
     },
     "execution_count": 50,
     "metadata": {},
     "output_type": "execute_result"
    }
   ],
   "source": [
    "d[1]"
   ]
  },
  {
   "cell_type": "code",
   "execution_count": 51,
   "metadata": {
    "school_cell_uuid": "4e91bfdf43b4426bb2bc668644e09544"
   },
   "outputs": [
    {
     "data": {
      "text/plain": [
       "'pi'"
      ]
     },
     "execution_count": 51,
     "metadata": {},
     "output_type": "execute_result"
    }
   ],
   "source": [
    "d[2]"
   ]
  },
  {
   "cell_type": "markdown",
   "metadata": {
    "school_cell_uuid": "c9b828fca02945c38406df1cf768fc4e"
   },
   "source": [
    "심지어 리스트 변수에 또 다른 리스트 변수를 넣을 수도 있다."
   ]
  },
  {
   "cell_type": "code",
   "execution_count": 52,
   "metadata": {
    "collapsed": true,
    "school_cell_uuid": "8deb9365ef104fb59ae8e33bb4affcc6"
   },
   "outputs": [],
   "source": [
    "e = [[1, 10], [2, 20]]"
   ]
  },
  {
   "cell_type": "code",
   "execution_count": 53,
   "metadata": {
    "school_cell_uuid": "c00318e619004fb9b6439ddb766067f5"
   },
   "outputs": [
    {
     "data": {
      "text/plain": [
       "[1, 10]"
      ]
     },
     "execution_count": 53,
     "metadata": {},
     "output_type": "execute_result"
    }
   ],
   "source": [
    "e[0]"
   ]
  },
  {
   "cell_type": "code",
   "execution_count": 58,
   "metadata": {
    "school_cell_uuid": "9a5d0db1a78044d38db02d776d44227f"
   },
   "outputs": [
    {
     "data": {
      "text/plain": [
       "[2, 20]"
      ]
     },
     "execution_count": 58,
     "metadata": {},
     "output_type": "execute_result"
    }
   ],
   "source": [
    "e[1]"
   ]
  },
  {
   "cell_type": "code",
   "execution_count": 54,
   "metadata": {
    "school_cell_uuid": "7b1477d08be744d98f27e266a020a340"
   },
   "outputs": [
    {
     "data": {
      "text/plain": [
       "1"
      ]
     },
     "execution_count": 54,
     "metadata": {},
     "output_type": "execute_result"
    }
   ],
   "source": [
    "e[0][0]"
   ]
  },
  {
   "cell_type": "code",
   "execution_count": 55,
   "metadata": {
    "school_cell_uuid": "ce5d1751220142648b20273fbece7e5f"
   },
   "outputs": [
    {
     "data": {
      "text/plain": [
       "10"
      ]
     },
     "execution_count": 55,
     "metadata": {},
     "output_type": "execute_result"
    }
   ],
   "source": [
    "e[0][1]"
   ]
  },
  {
   "cell_type": "code",
   "execution_count": 56,
   "metadata": {
    "school_cell_uuid": "dc7ce9fbe0ce49898dee95d349e3df61"
   },
   "outputs": [
    {
     "data": {
      "text/plain": [
       "2"
      ]
     },
     "execution_count": 56,
     "metadata": {},
     "output_type": "execute_result"
    }
   ],
   "source": [
    "e[1][0]"
   ]
  },
  {
   "cell_type": "code",
   "execution_count": 57,
   "metadata": {
    "school_cell_uuid": "4e336185b6b043d0a30550a57f9545af"
   },
   "outputs": [
    {
     "data": {
      "text/plain": [
       "20"
      ]
     },
     "execution_count": 57,
     "metadata": {},
     "output_type": "execute_result"
    }
   ],
   "source": [
    "e[1][1]"
   ]
  }
 ],
 "metadata": {
  "kernelspec": {
   "display_name": "Python 3",
   "language": "python",
   "name": "python3"
  },
  "language_info": {
   "codemirror_mode": {
    "name": "ipython",
    "version": 3
   },
   "file_extension": ".py",
   "mimetype": "text/x-python",
   "name": "python",
   "nbconvert_exporter": "python",
   "pygments_lexer": "ipython3",
   "version": "3.6.1"
  }
 },
 "nbformat": 4,
 "nbformat_minor": 1
}
