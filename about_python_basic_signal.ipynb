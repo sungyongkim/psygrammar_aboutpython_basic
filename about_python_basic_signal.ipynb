{
 "cells": [
  {
   "cell_type": "markdown",
   "metadata": {},
   "source": [
    "# Goal\n",
    "\n",
    "- 가사파일을 읽어온다.\n",
    "- 문장을 line by line으로 split한다. \n",
    "- split된 문장을 다시 공백 단위로 쪼개어 단어단위로 쪼갠다.\n",
    "- for문을 사용하여 각 row['단어']에 'signal'이라는 단어가 있는지 확인한다.\n",
    "- 'signal'이 있을경우, cnt변수에 값을 1씩 증가시킨다.\n",
    "- 상기의 과정을 함수로 만든다. \n",
    " - 함수 인자로 찾고자 하는 단어를 바꾸는 활동을 하여본다."
   ]
  },
  {
   "cell_type": "markdown",
   "metadata": {},
   "source": [
    "# 시그널 가사"
   ]
  },
  {
   "cell_type": "code",
   "execution_count": 4,
   "metadata": {},
   "outputs": [
    {
     "name": "stdout",
     "output_type": "stream",
     "text": [
      "15\n"
     ]
    }
   ],
   "source": [
    "def load_data_from_file(fn) :\n",
    "    f = open(fn)\n",
    "    doc = f.readlines()\n",
    "    f.close()\n",
    "    return doc\n",
    "\n",
    "def check_line(line, keyword) :\n",
    "    cnt = 0\n",
    "    words = line.split() # 라인을 공백으로 쪼갠다.\n",
    "    for word in words : # 단어로 단위로 쪼개진 각 라인 안의 단어가 키워드가 동일할 경우,  cnt를 1씩 증가시킨다.\n",
    "        if word in keyword :\n",
    "            cnt += 1\n",
    "    return cnt\n",
    "\n",
    "def count_keyword(doc, keyword) :\n",
    "    cnt = 0\n",
    "    for line in doc : # 라인 단위로 분할된 각 라인에서, \n",
    "        #print(\"D:\",line)\n",
    "        l_cnt = check_line(line,keyword) # 라인단위로,'check_line'의 결과값을 가져온다.\n",
    "        cnt = cnt + l_cnt # 'cnt'에 'check_line'의 결과값을 합친다.\n",
    "        #print(cnt)\n",
    "    return cnt\n",
    "\n",
    "keyword = ['signal','Signal']\n",
    "fn = 'signal.txt'\n",
    "doc = load_data_from_file(fn)\n",
    "cnt = count_keyword(doc, keyword)\n",
    "print(cnt)"
   ]
  }
 ],
 "metadata": {
  "kernelspec": {
   "display_name": "Python 3",
   "language": "python",
   "name": "python3"
  },
  "language_info": {
   "codemirror_mode": {
    "name": "ipython",
    "version": 3
   },
   "file_extension": ".py",
   "mimetype": "text/x-python",
   "name": "python",
   "nbconvert_exporter": "python",
   "pygments_lexer": "ipython3",
   "version": "3.6.1"
  }
 },
 "nbformat": 4,
 "nbformat_minor": 2
}
